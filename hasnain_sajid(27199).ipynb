{
  "nbformat": 4,
  "nbformat_minor": 0,
  "metadata": {
    "colab": {
      "provenance": [],
      "authorship_tag": "ABX9TyPWFXk9tVl7Y2C8zwtQH4vN",
      "include_colab_link": true
    },
    "kernelspec": {
      "name": "python3",
      "display_name": "Python 3"
    },
    "language_info": {
      "name": "python"
    }
  },
  "cells": [
    {
      "cell_type": "markdown",
      "metadata": {
        "id": "view-in-github",
        "colab_type": "text"
      },
      "source": [
        "<a href=\"https://colab.research.google.com/github/Hussy24/Predict-Price-for-Gifts/blob/main/hasnain_sajid(27199).ipynb\" target=\"_parent\"><img src=\"https://colab.research.google.com/assets/colab-badge.svg\" alt=\"Open In Colab\"/></a>"
      ]
    },
    {
      "cell_type": "code",
      "execution_count": 6,
      "metadata": {
        "id": "B8KSZ9bwb-j6",
        "colab": {
          "base_uri": "https://localhost:8080/"
        },
        "outputId": "971f883e-d04f-4438-a99f-6fec3b8bf0a0"
      },
      "outputs": [
        {
          "output_type": "execute_result",
          "data": {
            "text/plain": [
              "<bound method NDFrame.head of         gift_id  gift_type  gift_category  gift_cluster  \\\n",
              "0      GF_11156         61            534          3942   \n",
              "1      GF_11157         61            534          3942   \n",
              "2      GF_15689        584            262             0   \n",
              "3      GF_11155         61            534          3942   \n",
              "4      GF_11158         61            534          3942   \n",
              "...         ...        ...            ...           ...   \n",
              "20274  GF_10269        105            704          6448   \n",
              "20275   GF_5854       1220            526           817   \n",
              "20276    GF_563        509            705           821   \n",
              "20277   GF_9107        682            213          5620   \n",
              "20278   GF_5683       1061            212          4987   \n",
              "\n",
              "                  instock_date        stock_update_date  lsg_1  lsg_2  lsg_3  \\\n",
              "0      2014-02-21 05:07:06.000  2016-11-09 15:49:51.000   3377   5221    504   \n",
              "1      2014-02-21 06:07:06.000  2016-11-11 13:49:51.000   3377   5221    504   \n",
              "2      2014-02-21 09:30:21.000  2016-03-24 14:46:18.000   5290   1579   3203   \n",
              "3      2014-02-22 05:07:06.000  2016-11-10 16:49:51.000   3377   5221    504   \n",
              "4      2014-02-22 07:07:06.000  2016-11-10 13:49:51.000   3377   5221    504   \n",
              "...                        ...                      ...    ...    ...    ...   \n",
              "20274  2016-11-12 13:46:42.000  2016-11-17 10:46:42.000   2055   6883    995   \n",
              "20275  2016-11-12 13:46:47.000  2016-11-18 13:46:47.000   8323   6753   6706   \n",
              "20276  2016-11-12 13:46:57.000  2017-01-21 19:30:04.000   2826   4009   2912   \n",
              "20277  2016-11-12 13:47:01.000  2016-11-18 11:47:01.000   2089   6883   3607   \n",
              "20278  2016-11-12 13:48:30.000  2016-11-18 12:48:30.000    898   1814   6109   \n",
              "\n",
              "       lsg_4  lsg_5  lsg_6                 uk_date1                 uk_date2  \\\n",
              "0       1912     10    554  2014-02-24 08:07:06.000  2014-02-24 07:07:06.000   \n",
              "1       1912     10    554  2014-02-22 07:07:06.000  2014-02-24 06:07:06.000   \n",
              "2       1912      9   1578  2016-01-26 00:04:45.000  2016-03-18 02:00:00.000   \n",
              "3       1912     10    554  2016-11-07 13:49:51.000  2016-11-06 04:00:00.000   \n",
              "4       1912      9    554  2016-11-07 15:49:51.000  2016-11-06 01:00:00.000   \n",
              "...      ...    ...    ...                      ...                      ...   \n",
              "20274   1912     10   1899  2016-11-14 14:46:42.000  2016-11-11 03:00:00.000   \n",
              "20275   1912     10   1899  2016-11-13 10:46:47.000  2016-10-28 02:00:00.000   \n",
              "20276   1912     10   1451  2017-01-21 18:30:04.000  2017-01-18 01:00:00.000   \n",
              "20277   1912     10    822  2016-11-14 12:47:01.000  2016-11-13 02:00:00.000   \n",
              "20278   1912     10   1899  2016-11-12 10:48:30.000  2016-11-10 02:00:00.000   \n",
              "\n",
              "       is_discounted  volumes   price  \n",
              "0                  0      NaN  175.54  \n",
              "1                  1      NaN   95.80  \n",
              "2                  1      NaN  107.35  \n",
              "3                  0      NaN  172.90  \n",
              "4                  1      NaN   77.72  \n",
              "...              ...      ...     ...  \n",
              "20274              0      NaN   57.68  \n",
              "20275              0      NaN  122.87  \n",
              "20276              0      NaN   47.14  \n",
              "20277              0      NaN   47.68  \n",
              "20278              0      NaN   52.81  \n",
              "\n",
              "[20279 rows x 17 columns]>"
            ]
          },
          "metadata": {},
          "execution_count": 6
        }
      ],
      "source": [
        "import pandas as pd\n",
        "import numpy as np\n",
        "from sklearn.model_selection import train_test_split \n",
        "from sklearn.linear_model import LinearRegression\n",
        "from sklearn.metrics import mean_squared_error\n",
        "# Read the CSV file\n",
        "df = pd.read_csv('dataset.csv')\n",
        "df.head\n"
      ]
    },
    {
      "cell_type": "code",
      "source": [
        "# dropping null rows\n",
        "df = df.dropna()\n",
        "\n",
        "# Extract the input and target variables for predicting files\n",
        "X = df[['volumes', 'gift_type', 'gift_category', 'gift_cluster', 'lsg_1', 'lsg_2', 'lsg_3','lsg_4', 'lsg_5', 'lsg_6', 'is_discounted']]\n",
        "Y = df['price']"
      ],
      "metadata": {
        "id": "5BuEOngDg4NR"
      },
      "execution_count": 18,
      "outputs": []
    },
    {
      "cell_type": "code",
      "source": [
        "# Split the data into training and test sets\n",
        "x_train, x_test, y_train, y_test = train_test_split(X, Y, test_size=0.2, random_state=42)\n",
        "\n",
        "# Create a linear regression model\n",
        "model = LinearRegression()\n",
        "\n",
        "# Fit the model to the training data\n",
        "model.fit(x_train, y_train)\n",
        "\n",
        "# Make predictions on the test set\n",
        "y_pred = model.predict(X_test)\n",
        "\n",
        "# Print the predicted values\n",
        "print(\"Predicted values:\", y_pred)"
      ],
      "metadata": {
        "id": "kaMqo0ufmyqY"
      },
      "execution_count": null,
      "outputs": []
    }
  ]
}